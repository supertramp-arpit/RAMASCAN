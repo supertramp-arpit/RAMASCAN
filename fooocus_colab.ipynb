{
  "cells": [
    {
      "cell_type": "code",
      "execution_count": 2,
      "metadata": {
        "id": "VjYy0F2gZIPR",
        "outputId": "e4e3c360-029f-4485-e020-460139779a03",
        "colab": {
          "base_uri": "https://localhost:8080/"
        }
      },
      "outputs": [
        {
          "output_type": "stream",
          "name": "stdout",
          "text": [
            "Cloning into 'Fooocus-API'...\n",
            "remote: Enumerating objects: 3702, done.\u001b[K\n",
            "remote: Counting objects: 100% (1172/1172), done.\u001b[K\n",
            "remote: Compressing objects: 100% (331/331), done.\u001b[K\n",
            "remote: Total 3702 (delta 1003), reused 843 (delta 841), pack-reused 2530 (from 2)\u001b[K\n",
            "Receiving objects: 100% (3702/3702), 31.86 MiB | 25.77 MiB/s, done.\n",
            "Resolving deltas: 100% (2030/2030), done.\n"
          ]
        }
      ],
      "source": [
        "!git clone https://github.com/mrhan1993/Fooocus-API.git\n"
      ]
    },
    {
      "cell_type": "code",
      "source": [
        "cd Fooocus-API\n"
      ],
      "metadata": {
        "id": "PxFC3McoBhDZ",
        "outputId": "15c57d9e-2a43-479b-a050-d0f2271d7946",
        "colab": {
          "base_uri": "https://localhost:8080/"
        }
      },
      "execution_count": 4,
      "outputs": [
        {
          "output_type": "stream",
          "name": "stdout",
          "text": [
            "/content/Fooocus-API\n"
          ]
        }
      ]
    },
    {
      "cell_type": "code",
      "source": [
        "!pip install -r requirements.txt\n"
      ],
      "metadata": {
        "id": "4ZDTPR4-Bkog",
        "outputId": "b75e1fdc-375f-4c65-eef0-5aced54c989d",
        "colab": {
          "base_uri": "https://localhost:8080/"
        }
      },
      "execution_count": 6,
      "outputs": [
        {
          "output_type": "stream",
          "name": "stdout",
          "text": [
            "Requirement already satisfied: torchsde==0.2.6 in /usr/local/lib/python3.11/dist-packages (from -r requirements.txt (line 1)) (0.2.6)\n",
            "Requirement already satisfied: einops==0.8.0 in /usr/local/lib/python3.11/dist-packages (from -r requirements.txt (line 2)) (0.8.0)\n",
            "Requirement already satisfied: transformers==4.42.4 in /usr/local/lib/python3.11/dist-packages (from -r requirements.txt (line 3)) (4.42.4)\n",
            "Requirement already satisfied: safetensors==0.4.3 in /usr/local/lib/python3.11/dist-packages (from -r requirements.txt (line 4)) (0.4.3)\n",
            "Requirement already satisfied: accelerate==0.32.1 in /usr/local/lib/python3.11/dist-packages (from -r requirements.txt (line 5)) (0.32.1)\n",
            "Requirement already satisfied: pyyaml==6.0.1 in /usr/local/lib/python3.11/dist-packages (from -r requirements.txt (line 6)) (6.0.1)\n",
            "Requirement already satisfied: pillow==10.4.0 in /usr/local/lib/python3.11/dist-packages (from -r requirements.txt (line 7)) (10.4.0)\n",
            "Requirement already satisfied: scipy==1.14.0 in /usr/local/lib/python3.11/dist-packages (from -r requirements.txt (line 8)) (1.14.0)\n",
            "Requirement already satisfied: tqdm==4.66.4 in /usr/local/lib/python3.11/dist-packages (from -r requirements.txt (line 9)) (4.66.4)\n",
            "Requirement already satisfied: psutil==6.0.0 in /usr/local/lib/python3.11/dist-packages (from -r requirements.txt (line 10)) (6.0.0)\n",
            "Requirement already satisfied: pytorch_lightning==2.3.3 in /usr/local/lib/python3.11/dist-packages (from -r requirements.txt (line 11)) (2.3.3)\n",
            "Requirement already satisfied: omegaconf==2.3.0 in /usr/local/lib/python3.11/dist-packages (from -r requirements.txt (line 12)) (2.3.0)\n",
            "Requirement already satisfied: gradio==3.41.2 in /usr/local/lib/python3.11/dist-packages (from -r requirements.txt (line 13)) (3.41.2)\n",
            "Requirement already satisfied: pygit2==1.15.1 in /usr/local/lib/python3.11/dist-packages (from -r requirements.txt (line 14)) (1.15.1)\n",
            "Requirement already satisfied: opencv-contrib-python-headless==4.10.0.84 in /usr/local/lib/python3.11/dist-packages (from -r requirements.txt (line 15)) (4.10.0.84)\n",
            "Requirement already satisfied: httpx==0.27.0 in /usr/local/lib/python3.11/dist-packages (from -r requirements.txt (line 16)) (0.27.0)\n",
            "Requirement already satisfied: onnxruntime==1.18.1 in /usr/local/lib/python3.11/dist-packages (from -r requirements.txt (line 17)) (1.18.1)\n",
            "Requirement already satisfied: timm==1.0.7 in /usr/local/lib/python3.11/dist-packages (from -r requirements.txt (line 18)) (1.0.7)\n",
            "Requirement already satisfied: numpy==1.26.4 in /usr/local/lib/python3.11/dist-packages (from -r requirements.txt (line 19)) (1.26.4)\n",
            "Requirement already satisfied: tokenizers==0.19.1 in /usr/local/lib/python3.11/dist-packages (from -r requirements.txt (line 20)) (0.19.1)\n",
            "Requirement already satisfied: packaging==24.1 in /usr/local/lib/python3.11/dist-packages (from -r requirements.txt (line 21)) (24.1)\n",
            "Requirement already satisfied: rembg==2.0.57 in /usr/local/lib/python3.11/dist-packages (from -r requirements.txt (line 22)) (2.0.57)\n",
            "Requirement already satisfied: groundingdino-py==0.4.0 in /usr/local/lib/python3.11/dist-packages (from -r requirements.txt (line 23)) (0.4.0)\n",
            "Requirement already satisfied: segment_anything==1.0 in /usr/local/lib/python3.11/dist-packages (from -r requirements.txt (line 24)) (1.0)\n",
            "Requirement already satisfied: fastapi in /usr/local/lib/python3.11/dist-packages (from -r requirements.txt (line 25)) (0.116.1)\n",
            "Requirement already satisfied: pydantic==2.4.2 in /usr/local/lib/python3.11/dist-packages (from -r requirements.txt (line 26)) (2.4.2)\n",
            "Requirement already satisfied: pydantic_core==2.10.1 in /usr/local/lib/python3.11/dist-packages (from -r requirements.txt (line 27)) (2.10.1)\n",
            "Requirement already satisfied: python-multipart==0.0.6 in /usr/local/lib/python3.11/dist-packages (from -r requirements.txt (line 28)) (0.0.6)\n",
            "Requirement already satisfied: uvicorn==0.23.2 in /usr/local/lib/python3.11/dist-packages (from uvicorn[standard]==0.23.2->-r requirements.txt (line 29)) (0.23.2)\n",
            "Requirement already satisfied: chardet in /usr/local/lib/python3.11/dist-packages (from -r requirements.txt (line 30)) (5.2.0)\n",
            "Requirement already satisfied: colorlog in /usr/local/lib/python3.11/dist-packages (from -r requirements.txt (line 31)) (6.9.0)\n",
            "Requirement already satisfied: requests in /usr/local/lib/python3.11/dist-packages (from -r requirements.txt (line 32)) (2.32.3)\n",
            "Requirement already satisfied: sqlalchemy in /usr/local/lib/python3.11/dist-packages (from -r requirements.txt (line 34)) (2.0.41)\n",
            "Requirement already satisfied: rich in /usr/local/lib/python3.11/dist-packages (from -r requirements.txt (line 36)) (13.9.4)\n",
            "Requirement already satisfied: torch>=1.6.0 in /usr/local/lib/python3.11/dist-packages (from torchsde==0.2.6->-r requirements.txt (line 1)) (2.6.0+cu124)\n",
            "Requirement already satisfied: trampoline>=0.1.2 in /usr/local/lib/python3.11/dist-packages (from torchsde==0.2.6->-r requirements.txt (line 1)) (0.1.2)\n",
            "Requirement already satisfied: filelock in /usr/local/lib/python3.11/dist-packages (from transformers==4.42.4->-r requirements.txt (line 3)) (3.18.0)\n",
            "Requirement already satisfied: huggingface-hub<1.0,>=0.23.2 in /usr/local/lib/python3.11/dist-packages (from transformers==4.42.4->-r requirements.txt (line 3)) (0.33.4)\n",
            "Requirement already satisfied: regex!=2019.12.17 in /usr/local/lib/python3.11/dist-packages (from transformers==4.42.4->-r requirements.txt (line 3)) (2024.11.6)\n",
            "Requirement already satisfied: fsspec>=2022.5.0 in /usr/local/lib/python3.11/dist-packages (from fsspec[http]>=2022.5.0->pytorch_lightning==2.3.3->-r requirements.txt (line 11)) (2025.3.2)\n",
            "Requirement already satisfied: torchmetrics>=0.7.0 in /usr/local/lib/python3.11/dist-packages (from pytorch_lightning==2.3.3->-r requirements.txt (line 11)) (1.7.4)\n",
            "Requirement already satisfied: typing-extensions>=4.4.0 in /usr/local/lib/python3.11/dist-packages (from pytorch_lightning==2.3.3->-r requirements.txt (line 11)) (4.14.1)\n",
            "Requirement already satisfied: lightning-utilities>=0.10.0 in /usr/local/lib/python3.11/dist-packages (from pytorch_lightning==2.3.3->-r requirements.txt (line 11)) (0.14.3)\n",
            "Requirement already satisfied: antlr4-python3-runtime==4.9.* in /usr/local/lib/python3.11/dist-packages (from omegaconf==2.3.0->-r requirements.txt (line 12)) (4.9.3)\n",
            "Requirement already satisfied: aiofiles<24.0,>=22.0 in /usr/local/lib/python3.11/dist-packages (from gradio==3.41.2->-r requirements.txt (line 13)) (23.2.1)\n",
            "Requirement already satisfied: altair<6.0,>=4.2.0 in /usr/local/lib/python3.11/dist-packages (from gradio==3.41.2->-r requirements.txt (line 13)) (5.5.0)\n",
            "Requirement already satisfied: ffmpy in /usr/local/lib/python3.11/dist-packages (from gradio==3.41.2->-r requirements.txt (line 13)) (0.6.0)\n",
            "Requirement already satisfied: gradio-client==0.5.0 in /usr/local/lib/python3.11/dist-packages (from gradio==3.41.2->-r requirements.txt (line 13)) (0.5.0)\n",
            "Requirement already satisfied: importlib-resources<7.0,>=1.3 in /usr/local/lib/python3.11/dist-packages (from gradio==3.41.2->-r requirements.txt (line 13)) (6.5.2)\n",
            "Requirement already satisfied: jinja2<4.0 in /usr/local/lib/python3.11/dist-packages (from gradio==3.41.2->-r requirements.txt (line 13)) (3.1.6)\n",
            "Requirement already satisfied: markupsafe~=2.0 in /usr/local/lib/python3.11/dist-packages (from gradio==3.41.2->-r requirements.txt (line 13)) (2.1.5)\n",
            "Requirement already satisfied: matplotlib~=3.0 in /usr/local/lib/python3.11/dist-packages (from gradio==3.41.2->-r requirements.txt (line 13)) (3.10.0)\n",
            "Requirement already satisfied: orjson~=3.0 in /usr/local/lib/python3.11/dist-packages (from gradio==3.41.2->-r requirements.txt (line 13)) (3.10.18)\n",
            "Requirement already satisfied: pandas<3.0,>=1.0 in /usr/local/lib/python3.11/dist-packages (from gradio==3.41.2->-r requirements.txt (line 13)) (2.2.2)\n",
            "Requirement already satisfied: pydub in /usr/local/lib/python3.11/dist-packages (from gradio==3.41.2->-r requirements.txt (line 13)) (0.25.1)\n",
            "Requirement already satisfied: semantic-version~=2.0 in /usr/local/lib/python3.11/dist-packages (from gradio==3.41.2->-r requirements.txt (line 13)) (2.10.0)\n",
            "Requirement already satisfied: websockets<12.0,>=10.0 in /usr/local/lib/python3.11/dist-packages (from gradio==3.41.2->-r requirements.txt (line 13)) (11.0.3)\n",
            "Requirement already satisfied: cffi>=1.16.0 in /usr/local/lib/python3.11/dist-packages (from pygit2==1.15.1->-r requirements.txt (line 14)) (1.17.1)\n",
            "Requirement already satisfied: anyio in /usr/local/lib/python3.11/dist-packages (from httpx==0.27.0->-r requirements.txt (line 16)) (4.9.0)\n",
            "Requirement already satisfied: certifi in /usr/local/lib/python3.11/dist-packages (from httpx==0.27.0->-r requirements.txt (line 16)) (2025.7.14)\n",
            "Requirement already satisfied: httpcore==1.* in /usr/local/lib/python3.11/dist-packages (from httpx==0.27.0->-r requirements.txt (line 16)) (1.0.9)\n",
            "Requirement already satisfied: idna in /usr/local/lib/python3.11/dist-packages (from httpx==0.27.0->-r requirements.txt (line 16)) (3.10)\n",
            "Requirement already satisfied: sniffio in /usr/local/lib/python3.11/dist-packages (from httpx==0.27.0->-r requirements.txt (line 16)) (1.3.1)\n",
            "Requirement already satisfied: coloredlogs in /usr/local/lib/python3.11/dist-packages (from onnxruntime==1.18.1->-r requirements.txt (line 17)) (15.0.1)\n",
            "Requirement already satisfied: flatbuffers in /usr/local/lib/python3.11/dist-packages (from onnxruntime==1.18.1->-r requirements.txt (line 17)) (25.2.10)\n",
            "Requirement already satisfied: protobuf in /usr/local/lib/python3.11/dist-packages (from onnxruntime==1.18.1->-r requirements.txt (line 17)) (5.29.5)\n",
            "Requirement already satisfied: sympy in /usr/local/lib/python3.11/dist-packages (from onnxruntime==1.18.1->-r requirements.txt (line 17)) (1.13.1)\n",
            "Requirement already satisfied: torchvision in /usr/local/lib/python3.11/dist-packages (from timm==1.0.7->-r requirements.txt (line 18)) (0.21.0+cu124)\n",
            "Requirement already satisfied: jsonschema in /usr/local/lib/python3.11/dist-packages (from rembg==2.0.57->-r requirements.txt (line 22)) (4.24.0)\n",
            "Requirement already satisfied: opencv-python-headless in /usr/local/lib/python3.11/dist-packages (from rembg==2.0.57->-r requirements.txt (line 22)) (4.11.0.86)\n",
            "Requirement already satisfied: pooch in /usr/local/lib/python3.11/dist-packages (from rembg==2.0.57->-r requirements.txt (line 22)) (1.8.2)\n",
            "Requirement already satisfied: pymatting in /usr/local/lib/python3.11/dist-packages (from rembg==2.0.57->-r requirements.txt (line 22)) (1.1.14)\n",
            "Requirement already satisfied: scikit-image in /usr/local/lib/python3.11/dist-packages (from rembg==2.0.57->-r requirements.txt (line 22)) (0.25.2)\n",
            "Requirement already satisfied: addict in /usr/local/lib/python3.11/dist-packages (from groundingdino-py==0.4.0->-r requirements.txt (line 23)) (2.4.0)\n",
            "Requirement already satisfied: yapf in /usr/local/lib/python3.11/dist-packages (from groundingdino-py==0.4.0->-r requirements.txt (line 23)) (0.43.0)\n",
            "Requirement already satisfied: opencv-python in /usr/local/lib/python3.11/dist-packages (from groundingdino-py==0.4.0->-r requirements.txt (line 23)) (4.11.0.86)\n",
            "Requirement already satisfied: supervision==0.6.0 in /usr/local/lib/python3.11/dist-packages (from groundingdino-py==0.4.0->-r requirements.txt (line 23)) (0.6.0)\n",
            "Requirement already satisfied: pycocotools in /usr/local/lib/python3.11/dist-packages (from groundingdino-py==0.4.0->-r requirements.txt (line 23)) (2.0.10)\n",
            "Requirement already satisfied: annotated-types>=0.4.0 in /usr/local/lib/python3.11/dist-packages (from pydantic==2.4.2->-r requirements.txt (line 26)) (0.7.0)\n",
            "Requirement already satisfied: click>=7.0 in /usr/local/lib/python3.11/dist-packages (from uvicorn==0.23.2->uvicorn[standard]==0.23.2->-r requirements.txt (line 29)) (8.2.1)\n",
            "Requirement already satisfied: h11>=0.8 in /usr/local/lib/python3.11/dist-packages (from uvicorn==0.23.2->uvicorn[standard]==0.23.2->-r requirements.txt (line 29)) (0.16.0)\n",
            "Requirement already satisfied: httptools>=0.5.0 in /usr/local/lib/python3.11/dist-packages (from uvicorn[standard]==0.23.2->-r requirements.txt (line 29)) (0.6.4)\n",
            "Requirement already satisfied: python-dotenv>=0.13 in /usr/local/lib/python3.11/dist-packages (from uvicorn[standard]==0.23.2->-r requirements.txt (line 29)) (1.1.1)\n",
            "Requirement already satisfied: uvloop!=0.15.0,!=0.15.1,>=0.14.0 in /usr/local/lib/python3.11/dist-packages (from uvicorn[standard]==0.23.2->-r requirements.txt (line 29)) (0.21.0)\n",
            "Requirement already satisfied: watchfiles>=0.13 in /usr/local/lib/python3.11/dist-packages (from uvicorn[standard]==0.23.2->-r requirements.txt (line 29)) (1.1.0)\n",
            "Requirement already satisfied: starlette<0.48.0,>=0.40.0 in /usr/local/lib/python3.11/dist-packages (from fastapi->-r requirements.txt (line 25)) (0.47.1)\n",
            "Requirement already satisfied: charset-normalizer<4,>=2 in /usr/local/lib/python3.11/dist-packages (from requests->-r requirements.txt (line 32)) (3.4.2)\n",
            "Requirement already satisfied: urllib3<3,>=1.21.1 in /usr/local/lib/python3.11/dist-packages (from requests->-r requirements.txt (line 32)) (2.4.0)\n",
            "Requirement already satisfied: greenlet>=1 in /usr/local/lib/python3.11/dist-packages (from sqlalchemy->-r requirements.txt (line 34)) (3.2.3)\n",
            "Requirement already satisfied: markdown-it-py>=2.2.0 in /usr/local/lib/python3.11/dist-packages (from rich->-r requirements.txt (line 36)) (3.0.0)\n",
            "Requirement already satisfied: pygments<3.0.0,>=2.13.0 in /usr/local/lib/python3.11/dist-packages (from rich->-r requirements.txt (line 36)) (2.19.2)\n",
            "Requirement already satisfied: narwhals>=1.14.2 in /usr/local/lib/python3.11/dist-packages (from altair<6.0,>=4.2.0->gradio==3.41.2->-r requirements.txt (line 13)) (1.47.0)\n",
            "Requirement already satisfied: pycparser in /usr/local/lib/python3.11/dist-packages (from cffi>=1.16.0->pygit2==1.15.1->-r requirements.txt (line 14)) (2.22)\n",
            "Requirement already satisfied: aiohttp!=4.0.0a0,!=4.0.0a1 in /usr/local/lib/python3.11/dist-packages (from fsspec[http]>=2022.5.0->pytorch_lightning==2.3.3->-r requirements.txt (line 11)) (3.11.15)\n",
            "Requirement already satisfied: hf-xet<2.0.0,>=1.1.2 in /usr/local/lib/python3.11/dist-packages (from huggingface-hub<1.0,>=0.23.2->transformers==4.42.4->-r requirements.txt (line 3)) (1.1.5)\n",
            "Requirement already satisfied: attrs>=22.2.0 in /usr/local/lib/python3.11/dist-packages (from jsonschema->rembg==2.0.57->-r requirements.txt (line 22)) (25.3.0)\n",
            "Requirement already satisfied: jsonschema-specifications>=2023.03.6 in /usr/local/lib/python3.11/dist-packages (from jsonschema->rembg==2.0.57->-r requirements.txt (line 22)) (2025.4.1)\n",
            "Requirement already satisfied: referencing>=0.28.4 in /usr/local/lib/python3.11/dist-packages (from jsonschema->rembg==2.0.57->-r requirements.txt (line 22)) (0.36.2)\n",
            "Requirement already satisfied: rpds-py>=0.7.1 in /usr/local/lib/python3.11/dist-packages (from jsonschema->rembg==2.0.57->-r requirements.txt (line 22)) (0.26.0)\n",
            "Requirement already satisfied: setuptools in /usr/local/lib/python3.11/dist-packages (from lightning-utilities>=0.10.0->pytorch_lightning==2.3.3->-r requirements.txt (line 11)) (75.2.0)\n",
            "Requirement already satisfied: mdurl~=0.1 in /usr/local/lib/python3.11/dist-packages (from markdown-it-py>=2.2.0->rich->-r requirements.txt (line 36)) (0.1.2)\n",
            "Requirement already satisfied: contourpy>=1.0.1 in /usr/local/lib/python3.11/dist-packages (from matplotlib~=3.0->gradio==3.41.2->-r requirements.txt (line 13)) (1.3.2)\n",
            "Requirement already satisfied: cycler>=0.10 in /usr/local/lib/python3.11/dist-packages (from matplotlib~=3.0->gradio==3.41.2->-r requirements.txt (line 13)) (0.12.1)\n",
            "Requirement already satisfied: fonttools>=4.22.0 in /usr/local/lib/python3.11/dist-packages (from matplotlib~=3.0->gradio==3.41.2->-r requirements.txt (line 13)) (4.58.5)\n",
            "Requirement already satisfied: kiwisolver>=1.3.1 in /usr/local/lib/python3.11/dist-packages (from matplotlib~=3.0->gradio==3.41.2->-r requirements.txt (line 13)) (1.4.8)\n",
            "Requirement already satisfied: pyparsing>=2.3.1 in /usr/local/lib/python3.11/dist-packages (from matplotlib~=3.0->gradio==3.41.2->-r requirements.txt (line 13)) (3.2.3)\n",
            "Requirement already satisfied: python-dateutil>=2.7 in /usr/local/lib/python3.11/dist-packages (from matplotlib~=3.0->gradio==3.41.2->-r requirements.txt (line 13)) (2.9.0.post0)\n",
            "Requirement already satisfied: pytz>=2020.1 in /usr/local/lib/python3.11/dist-packages (from pandas<3.0,>=1.0->gradio==3.41.2->-r requirements.txt (line 13)) (2025.2)\n",
            "Requirement already satisfied: tzdata>=2022.7 in /usr/local/lib/python3.11/dist-packages (from pandas<3.0,>=1.0->gradio==3.41.2->-r requirements.txt (line 13)) (2025.2)\n",
            "Requirement already satisfied: networkx in /usr/local/lib/python3.11/dist-packages (from torch>=1.6.0->torchsde==0.2.6->-r requirements.txt (line 1)) (3.5)\n",
            "Requirement already satisfied: nvidia-cuda-nvrtc-cu12==12.4.127 in /usr/local/lib/python3.11/dist-packages (from torch>=1.6.0->torchsde==0.2.6->-r requirements.txt (line 1)) (12.4.127)\n",
            "Requirement already satisfied: nvidia-cuda-runtime-cu12==12.4.127 in /usr/local/lib/python3.11/dist-packages (from torch>=1.6.0->torchsde==0.2.6->-r requirements.txt (line 1)) (12.4.127)\n",
            "Requirement already satisfied: nvidia-cuda-cupti-cu12==12.4.127 in /usr/local/lib/python3.11/dist-packages (from torch>=1.6.0->torchsde==0.2.6->-r requirements.txt (line 1)) (12.4.127)\n",
            "Requirement already satisfied: nvidia-cudnn-cu12==9.1.0.70 in /usr/local/lib/python3.11/dist-packages (from torch>=1.6.0->torchsde==0.2.6->-r requirements.txt (line 1)) (9.1.0.70)\n",
            "Requirement already satisfied: nvidia-cublas-cu12==12.4.5.8 in /usr/local/lib/python3.11/dist-packages (from torch>=1.6.0->torchsde==0.2.6->-r requirements.txt (line 1)) (12.4.5.8)\n",
            "Requirement already satisfied: nvidia-cufft-cu12==11.2.1.3 in /usr/local/lib/python3.11/dist-packages (from torch>=1.6.0->torchsde==0.2.6->-r requirements.txt (line 1)) (11.2.1.3)\n",
            "Requirement already satisfied: nvidia-curand-cu12==10.3.5.147 in /usr/local/lib/python3.11/dist-packages (from torch>=1.6.0->torchsde==0.2.6->-r requirements.txt (line 1)) (10.3.5.147)\n",
            "Requirement already satisfied: nvidia-cusolver-cu12==11.6.1.9 in /usr/local/lib/python3.11/dist-packages (from torch>=1.6.0->torchsde==0.2.6->-r requirements.txt (line 1)) (11.6.1.9)\n",
            "Requirement already satisfied: nvidia-cusparse-cu12==12.3.1.170 in /usr/local/lib/python3.11/dist-packages (from torch>=1.6.0->torchsde==0.2.6->-r requirements.txt (line 1)) (12.3.1.170)\n",
            "Requirement already satisfied: nvidia-cusparselt-cu12==0.6.2 in /usr/local/lib/python3.11/dist-packages (from torch>=1.6.0->torchsde==0.2.6->-r requirements.txt (line 1)) (0.6.2)\n",
            "Requirement already satisfied: nvidia-nccl-cu12==2.21.5 in /usr/local/lib/python3.11/dist-packages (from torch>=1.6.0->torchsde==0.2.6->-r requirements.txt (line 1)) (2.21.5)\n",
            "Requirement already satisfied: nvidia-nvtx-cu12==12.4.127 in /usr/local/lib/python3.11/dist-packages (from torch>=1.6.0->torchsde==0.2.6->-r requirements.txt (line 1)) (12.4.127)\n",
            "Requirement already satisfied: nvidia-nvjitlink-cu12==12.4.127 in /usr/local/lib/python3.11/dist-packages (from torch>=1.6.0->torchsde==0.2.6->-r requirements.txt (line 1)) (12.4.127)\n",
            "Requirement already satisfied: triton==3.2.0 in /usr/local/lib/python3.11/dist-packages (from torch>=1.6.0->torchsde==0.2.6->-r requirements.txt (line 1)) (3.2.0)\n",
            "Requirement already satisfied: mpmath<1.4,>=1.1.0 in /usr/local/lib/python3.11/dist-packages (from sympy->onnxruntime==1.18.1->-r requirements.txt (line 17)) (1.3.0)\n",
            "Requirement already satisfied: humanfriendly>=9.1 in /usr/local/lib/python3.11/dist-packages (from coloredlogs->onnxruntime==1.18.1->-r requirements.txt (line 17)) (10.0)\n",
            "Requirement already satisfied: platformdirs>=2.5.0 in /usr/local/lib/python3.11/dist-packages (from pooch->rembg==2.0.57->-r requirements.txt (line 22)) (4.3.8)\n",
            "Requirement already satisfied: numba!=0.49.0 in /usr/local/lib/python3.11/dist-packages (from pymatting->rembg==2.0.57->-r requirements.txt (line 22)) (0.60.0)\n",
            "Requirement already satisfied: imageio!=2.35.0,>=2.33 in /usr/local/lib/python3.11/dist-packages (from scikit-image->rembg==2.0.57->-r requirements.txt (line 22)) (2.37.0)\n",
            "Requirement already satisfied: tifffile>=2022.8.12 in /usr/local/lib/python3.11/dist-packages (from scikit-image->rembg==2.0.57->-r requirements.txt (line 22)) (2025.6.11)\n",
            "Requirement already satisfied: lazy-loader>=0.4 in /usr/local/lib/python3.11/dist-packages (from scikit-image->rembg==2.0.57->-r requirements.txt (line 22)) (0.4)\n",
            "Requirement already satisfied: aiohappyeyeballs>=2.3.0 in /usr/local/lib/python3.11/dist-packages (from aiohttp!=4.0.0a0,!=4.0.0a1->fsspec[http]>=2022.5.0->pytorch_lightning==2.3.3->-r requirements.txt (line 11)) (2.6.1)\n",
            "Requirement already satisfied: aiosignal>=1.1.2 in /usr/local/lib/python3.11/dist-packages (from aiohttp!=4.0.0a0,!=4.0.0a1->fsspec[http]>=2022.5.0->pytorch_lightning==2.3.3->-r requirements.txt (line 11)) (1.4.0)\n",
            "Requirement already satisfied: frozenlist>=1.1.1 in /usr/local/lib/python3.11/dist-packages (from aiohttp!=4.0.0a0,!=4.0.0a1->fsspec[http]>=2022.5.0->pytorch_lightning==2.3.3->-r requirements.txt (line 11)) (1.7.0)\n",
            "Requirement already satisfied: multidict<7.0,>=4.5 in /usr/local/lib/python3.11/dist-packages (from aiohttp!=4.0.0a0,!=4.0.0a1->fsspec[http]>=2022.5.0->pytorch_lightning==2.3.3->-r requirements.txt (line 11)) (6.6.3)\n",
            "Requirement already satisfied: propcache>=0.2.0 in /usr/local/lib/python3.11/dist-packages (from aiohttp!=4.0.0a0,!=4.0.0a1->fsspec[http]>=2022.5.0->pytorch_lightning==2.3.3->-r requirements.txt (line 11)) (0.3.2)\n",
            "Requirement already satisfied: yarl<2.0,>=1.17.0 in /usr/local/lib/python3.11/dist-packages (from aiohttp!=4.0.0a0,!=4.0.0a1->fsspec[http]>=2022.5.0->pytorch_lightning==2.3.3->-r requirements.txt (line 11)) (1.20.1)\n",
            "Requirement already satisfied: llvmlite<0.44,>=0.43.0dev0 in /usr/local/lib/python3.11/dist-packages (from numba!=0.49.0->pymatting->rembg==2.0.57->-r requirements.txt (line 22)) (0.43.0)\n",
            "Requirement already satisfied: six>=1.5 in /usr/local/lib/python3.11/dist-packages (from python-dateutil>=2.7->matplotlib~=3.0->gradio==3.41.2->-r requirements.txt (line 13)) (1.17.0)\n"
          ]
        }
      ]
    },
    {
      "cell_type": "code",
      "source": [
        "# !python main.py"
      ],
      "metadata": {
        "id": "y_57EhbbEST8"
      },
      "execution_count": 8,
      "outputs": []
    },
    {
      "cell_type": "code",
      "source": [
        "\n",
        "!pip install pyngrok\n",
        "from pyngrok import ngrok"
      ],
      "metadata": {
        "id": "XniUZSjZJJhG",
        "outputId": "55f7ae5c-5f81-428f-c9c0-16be47e9785d",
        "colab": {
          "base_uri": "https://localhost:8080/"
        }
      },
      "execution_count": 10,
      "outputs": [
        {
          "output_type": "stream",
          "name": "stdout",
          "text": [
            "Collecting pyngrok\n",
            "  Downloading pyngrok-7.2.12-py3-none-any.whl.metadata (9.4 kB)\n",
            "Requirement already satisfied: PyYAML>=5.1 in /usr/local/lib/python3.11/dist-packages (from pyngrok) (6.0.1)\n",
            "Downloading pyngrok-7.2.12-py3-none-any.whl (26 kB)\n",
            "Installing collected packages: pyngrok\n",
            "Successfully installed pyngrok-7.2.12\n"
          ]
        }
      ]
    },
    {
      "cell_type": "code",
      "source": [
        "# Tunnel port 8888 to the internet\n",
        "from pyngrok import conf\n",
        "\n",
        "conf.get_default().auth_token = \"2zLLLb62S5Nf29usjNvCVkeQkgV_5YYLL7jX6xkbXSouJqYH3\"\n",
        "public_url = ngrok.connect(8888)\n",
        "print(\"🔗 Public URL:\", public_url)"
      ],
      "metadata": {
        "id": "NURp2jhQJn1B",
        "outputId": "acdeed6c-7873-461e-e65f-09781a48f0b2",
        "colab": {
          "base_uri": "https://localhost:8080/"
        }
      },
      "execution_count": 13,
      "outputs": [
        {
          "output_type": "stream",
          "name": "stdout",
          "text": [
            "🔗 Public URL: NgrokTunnel: \"https://de523f415a16.ngrok-free.app\" -> \"http://localhost:8888\"\n"
          ]
        }
      ]
    },
    {
      "cell_type": "code",
      "source": [
        "!python main.py"
      ],
      "metadata": {
        "id": "c7VX-CNuMFOU",
        "outputId": "a5eba0b0-8242-483e-9ff3-c4342595c7ce",
        "colab": {
          "base_uri": "https://localhost:8080/"
        }
      },
      "execution_count": null,
      "outputs": [
        {
          "output_type": "stream",
          "name": "stdout",
          "text": [
            "\u001b[32m[2025-07-17 12:12:50] INFO    \u001b[0m \u001b[34m[System ARGV] ['main.py']\u001b[0m\n",
            "\u001b[32m[2025-07-17 12:12:50] INFO    \u001b[0m \u001b[34m[Fooocus API] Python 3.11.13 (main, Jun  4 2025, 08:57:29) [GCC 11.4.0]\u001b[0m\n",
            "\u001b[32m[2025-07-17 12:12:50] INFO    \u001b[0m \u001b[34m[Fooocus API] Fooocus API version: 0.5.0.1\u001b[0m\n",
            "Total VRAM 15095 MB, total RAM 12978 MB\n",
            "Set vram state to: NORMAL_VRAM\n",
            "Device: cuda:0 Tesla T4 : native\n",
            "VAE dtype: torch.float32\n",
            "Using pytorch cross attention\n",
            "\u001b[32m[2025-07-17 12:13:01] INFO    \u001b[0m \u001b[34mNumExpr defaulting to 2 threads.\u001b[0m\n",
            "\u001b[32m[2025-07-17 12:13:01] INFO    \u001b[0m \u001b[34m[Fooocus-API] Task queue size: 100\u001b[0m\n",
            "\u001b[32m[2025-07-17 12:13:01] INFO    \u001b[0m \u001b[34m[Fooocus-API] Queue history size: 0\u001b[0m\n",
            "\u001b[32m[2025-07-17 12:13:01] INFO    \u001b[0m \u001b[34m[Fooocus-API] Webhook url: None\u001b[0m\n",
            "\u001b[32m[2025-07-17 12:13:01] INFO    \u001b[0m \u001b[34m[Fooocus-API] Preloading pipeline ...\u001b[0m\n",
            "Refiner unloaded.\n",
            "\u001b[32mINFO\u001b[0m:     Started server process [\u001b[36m20408\u001b[0m]\n",
            "\u001b[32mINFO\u001b[0m:     Waiting for application startup.\n",
            "\u001b[32mINFO\u001b[0m:     Application startup complete.\n",
            "\u001b[32mINFO\u001b[0m:     Uvicorn running on \u001b[1mhttp://127.0.0.1:8888\u001b[0m (Press CTRL+C to quit)\n",
            "model_type EPS\n",
            "UNet ADM Dimension 2816\n",
            "Using pytorch attention in VAE\n",
            "Working with z of shape (1, 4, 32, 32) = 4096 dimensions.\n",
            "Using pytorch attention in VAE\n",
            "extra {'cond_stage_model.clip_l.text_projection', 'cond_stage_model.clip_l.logit_scale'}\n",
            "left over keys: dict_keys(['cond_stage_model.clip_l.transformer.text_model.embeddings.position_ids'])\n",
            "loaded straight to GPU\n",
            "Requested to load SDXL\n",
            "Loading 1 new model\n",
            "Base model loaded: /content/Fooocus-API/repositories/Fooocus/models/checkpoints/juggernautXL_v8Rundiffusion.safetensors\n",
            "VAE loaded: None\n",
            "Request to load LoRAs [('sd_xl_offset_example-lora_1.0.safetensors', 0.1)] for model [/content/Fooocus-API/repositories/Fooocus/models/checkpoints/juggernautXL_v8Rundiffusion.safetensors].\n",
            "Loaded LoRA [/content/Fooocus-API/repositories/Fooocus/models/loras/sd_xl_offset_example-lora_1.0.safetensors] for UNet [/content/Fooocus-API/repositories/Fooocus/models/checkpoints/juggernautXL_v8Rundiffusion.safetensors] with 788 keys at weight 0.1.\n",
            "Fooocus V2 Expansion: Vocab with 642 words.\n",
            "Fooocus Expansion engine loaded for cuda:0, use_fp16 = True.\n",
            "Requested to load SDXLClipModel\n",
            "Requested to load GPT2LMHeadModel\n",
            "Loading 2 new models\n",
            "[Fooocus Model Management] Moving model(s) has taken 0.59 seconds\n"
          ]
        }
      ]
    }
  ],
  "metadata": {
    "accelerator": "GPU",
    "colab": {
      "gpuType": "T4",
      "provenance": []
    },
    "kernelspec": {
      "display_name": "Python 3",
      "name": "python3"
    },
    "language_info": {
      "name": "python"
    }
  },
  "nbformat": 4,
  "nbformat_minor": 0
}